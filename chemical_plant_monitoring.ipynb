{
 "cells": [
  {
   "cell_type": "code",
   "execution_count": 1,
   "id": "aa41f4ba-19e6-45ad-98e8-d6f6934a034b",
   "metadata": {},
   "outputs": [],
   "source": [
    "import sqlite3\n",
    "import random\n",
    "from datetime import datetime"
   ]
  },
  {
   "cell_type": "code",
   "execution_count": 2,
   "id": "d60a3d8c-c91f-4659-9683-1bda5b937f91",
   "metadata": {},
   "outputs": [],
   "source": [
    "# Establish a connection\n",
    "conn = sqlite3.connect(\"chemical_plant_monitoring.db\")\n",
    "\n",
    "# Create cursor\n",
    "cursor = conn.cursor()"
   ]
  },
  {
   "cell_type": "code",
   "execution_count": 3,
   "id": "8ec4ee7e-b5ac-47f7-a90f-f59e84531c46",
   "metadata": {},
   "outputs": [
    {
     "data": {
      "text/plain": [
       "<sqlite3.Cursor at 0x2b3e7f8dbc0>"
      ]
     },
     "execution_count": 3,
     "metadata": {},
     "output_type": "execute_result"
    }
   ],
   "source": [
    "# Create tables \n",
    "cursor.execute(\"\"\"\n",
    "CREATE TABLE IF NOT EXISTS plants (\n",
    "    plant_id INTEGER PRIMARY KEY,\n",
    "    name TEXT,\n",
    "    location TEXT\n",
    ");\n",
    "\"\"\")"
   ]
  },
  {
   "cell_type": "code",
   "execution_count": 4,
   "id": "e3b00c71-e660-46c5-a3b7-5edeb90bbd55",
   "metadata": {},
   "outputs": [
    {
     "data": {
      "text/plain": [
       "<sqlite3.Cursor at 0x2b3e7f8dbc0>"
      ]
     },
     "execution_count": 4,
     "metadata": {},
     "output_type": "execute_result"
    }
   ],
   "source": [
    "cursor.execute(\"\"\"\n",
    "CREATE TABLE IF NOT EXISTS products (\n",
    "    product_id INTEGER PRIMARY KEY,\n",
    "    product_name TEXT,\n",
    "    hazard_level TEXT\n",
    ");\n",
    "\"\"\")"
   ]
  },
  {
   "cell_type": "code",
   "execution_count": 5,
   "id": "0d603a66-5812-4e92-be51-2a1c09e8b696",
   "metadata": {},
   "outputs": [
    {
     "data": {
      "text/plain": [
       "<sqlite3.Cursor at 0x2b3e7f8dbc0>"
      ]
     },
     "execution_count": 5,
     "metadata": {},
     "output_type": "execute_result"
    }
   ],
   "source": [
    "cursor.execute(\"\"\"\n",
    "CREATE TABLE IF NOT EXISTS production (\n",
    "    production_id INTEGER PRIMARY KEY,\n",
    "    plant_id INTEGER,\n",
    "    product_id INTEGER,\n",
    "    year INTEGER,\n",
    "    month INTEGER,\n",
    "    quantity_produced_kg REAL,\n",
    "    FOREIGN KEY(plant_id) REFERENCES plants(plant_id),\n",
    "    FOREIGN KEY(product_id) REFERENCES products(product_id)\n",
    ");\n",
    "\"\"\")"
   ]
  },
  {
   "cell_type": "code",
   "execution_count": 6,
   "id": "aef88e14-9f5d-4fac-9f45-d85dbdd0fef1",
   "metadata": {},
   "outputs": [
    {
     "data": {
      "text/plain": [
       "<sqlite3.Cursor at 0x2b3e7f8dbc0>"
      ]
     },
     "execution_count": 6,
     "metadata": {},
     "output_type": "execute_result"
    }
   ],
   "source": [
    "cursor.execute(\"\"\"\n",
    "CREATE TABLE IF NOT EXISTS emissions (\n",
    "    emission_id INTEGER PRIMARY KEY,\n",
    "    plant_id INTEGER,\n",
    "    year INTEGER,\n",
    "    month INTEGER,\n",
    "    CO2_tons REAL,\n",
    "    NOx_tons REAL,\n",
    "    SO2_tons REAL,\n",
    "    FOREIGN KEY(plant_id) REFERENCES plants(plant_id)\n",
    ");\n",
    "\"\"\")"
   ]
  },
  {
   "cell_type": "code",
   "execution_count": 7,
   "id": "c243c64b-a756-45e5-a59b-1b9cb3256316",
   "metadata": {},
   "outputs": [
    {
     "data": {
      "text/plain": [
       "<sqlite3.Cursor at 0x2b3e7f8dbc0>"
      ]
     },
     "execution_count": 7,
     "metadata": {},
     "output_type": "execute_result"
    }
   ],
   "source": [
    "cursor.execute(\"\"\"\n",
    "CREATE TABLE IF NOT EXISTS energy_usage (\n",
    "    energy_id INTEGER PRIMARY KEY,\n",
    "    plant_id INTEGER,\n",
    "    year INTEGER,\n",
    "    month INTEGER,\n",
    "    total_energy_MWh REAL,\n",
    "    renewable_pct REAL,\n",
    "    FOREIGN KEY(plant_id) REFERENCES plants(plant_id)\n",
    ");\n",
    "\"\"\")"
   ]
  },
  {
   "cell_type": "code",
   "execution_count": 8,
   "id": "8a66b7bf-fa29-4f7a-a13a-a489c2edffa3",
   "metadata": {},
   "outputs": [
    {
     "data": {
      "text/plain": [
       "<sqlite3.Cursor at 0x2b3e7f8dbc0>"
      ]
     },
     "execution_count": 8,
     "metadata": {},
     "output_type": "execute_result"
    }
   ],
   "source": [
    "cursor.execute(\"\"\"\n",
    "CREATE TABLE IF NOT EXISTS incidents (\n",
    "    incident_id INTEGER PRIMARY KEY,\n",
    "    plant_id INTEGER,\n",
    "    year INTEGER,\n",
    "    month INTEGER,\n",
    "    type TEXT,\n",
    "    severity TEXT,\n",
    "    FOREIGN KEY(plant_id) REFERENCES plants(plant_id)\n",
    ");\n",
    "\"\"\")"
   ]
  },
  {
   "cell_type": "code",
   "execution_count": 9,
   "id": "3a6e5106-051a-4580-981f-63ad465e21fb",
   "metadata": {},
   "outputs": [],
   "source": [
    "# Commit the changes\n",
    "conn.commit()"
   ]
  },
  {
   "cell_type": "code",
   "execution_count": 10,
   "id": "7ecee8e1-ae15-4690-bf81-b68e5f80d9a9",
   "metadata": {},
   "outputs": [],
   "source": [
    "# Simulated Data\n",
    "plants = [\n",
    "    (1, \"Plant Alpha\", \"Brazil\"),\n",
    "    (2, \"Plant Beta\", \"USA\"),\n",
    "    (3, \"Plant Gamma\", \"Germany\")\n",
    "]\n",
    "\n",
    "products = [\n",
    "    (1, \"Sodium Hydroxide\", \"Medium\"),\n",
    "    (2, \"Ammonia\", \"High\"),\n",
    "    (3, \"Hydrochloric Acid\", \"High\"),\n",
    "    (4, \"Ethanol\", \"Low\")\n",
    "]"
   ]
  },
  {
   "cell_type": "code",
   "execution_count": 11,
   "id": "56e4375e-47dc-4b42-841f-28c3d5e8279b",
   "metadata": {},
   "outputs": [
    {
     "data": {
      "text/plain": [
       "<sqlite3.Cursor at 0x2b3e7f8dbc0>"
      ]
     },
     "execution_count": 11,
     "metadata": {},
     "output_type": "execute_result"
    }
   ],
   "source": [
    "# Insert Data\n",
    "\n",
    "cursor.executemany(\"\"\"\n",
    "INSERT OR IGNORE INTO plants (plant_id, name, location) VALUES (?, ?, ?)\n",
    "\"\"\", plants)\n",
    "\n",
    "cursor.executemany(\"\"\"\n",
    "INSERT OR IGNORE INTO products (product_id, product_name, hazard_level) VALUES (?, ?, ?)\n",
    "\"\"\", products)"
   ]
  },
  {
   "cell_type": "code",
   "execution_count": 12,
   "id": "1bc59257-01d6-4c57-aedc-554a2c8ba58d",
   "metadata": {},
   "outputs": [],
   "source": [
    "# Generate Data\n",
    "\n",
    "def generate_production_data():\n",
    "    for year in range(2021, 2025):\n",
    "        for month in range(1, 13):\n",
    "            for plant_id in range(1, 4):\n",
    "                for product_id in range(1, 5):\n",
    "                    qty = round(random.uniform(1000, 50000), 2)\n",
    "                    cursor.execute(\"\"\"\n",
    "                    INSERT INTO production (plant_id, product_id, year, month, quantity_produced_kg)\n",
    "                    VALUES (?, ?, ?, ?, ?)\n",
    "                    \"\"\", (plant_id, product_id, year, month, qty))"
   ]
  },
  {
   "cell_type": "code",
   "execution_count": 13,
   "id": "80d99102-b8ff-4fcc-bc0d-13256e0e6508",
   "metadata": {},
   "outputs": [],
   "source": [
    "def generate_emissions_data():\n",
    "    for year in range(2021, 2025):\n",
    "        for month in range(1, 13):\n",
    "            for plant_id in range(1, 4):\n",
    "                co2 = round(random.uniform(100, 1000), 2)\n",
    "                nox = round(random.uniform(10, 100), 2)\n",
    "                so2 = round(random.uniform(5, 50), 2)\n",
    "                cursor.execute(\"\"\"\n",
    "                INSERT INTO emissions (plant_id, year, month, CO2_tons, NOx_tons, SO2_tons)\n",
    "                VALUES (?, ?, ?, ?, ?, ?)\n",
    "                \"\"\", (plant_id, year, month, co2, nox, so2))"
   ]
  },
  {
   "cell_type": "code",
   "execution_count": 14,
   "id": "f8e87232-3223-4bc9-a263-c3e24219cb4f",
   "metadata": {},
   "outputs": [],
   "source": [
    "def generate_energy_data():\n",
    "    for year in range(2021, 2025):\n",
    "        for month in range(1, 13):\n",
    "            for plant_id in range(1, 4):\n",
    "                energy = round(random.uniform(500, 5000), 2)\n",
    "                renewable = round(random.uniform(10, 90), 2)\n",
    "                cursor.execute(\"\"\"\n",
    "                INSERT INTO energy_usage (plant_id, year, month, total_energy_MWh, renewable_pct)\n",
    "                VALUES (?, ?, ?, ?, ?)\n",
    "                \"\"\", (plant_id, year, month, energy, renewable))"
   ]
  },
  {
   "cell_type": "code",
   "execution_count": 15,
   "id": "c273b4d1-b527-4a87-abb0-6dab7504ff4d",
   "metadata": {},
   "outputs": [],
   "source": [
    "def generate_incident_data():\n",
    "    types = [\"Spill\", \"Fire\", \"Leak\", \"Power Outage\"]\n",
    "    severities = [\"Low\", \"Medium\", \"High\", \"Critical\"]\n",
    "    for year in range(2021, 2025):\n",
    "        for month in range(1, 13):\n",
    "            for plant_id in range(1, 4):\n",
    "                if random.random() < 0.3:  # 30% chance de incidente no mês\n",
    "                    for _ in range(random.randint(0, 2)):\n",
    "                        incident_type = random.choice(types)\n",
    "                        severity = random.choices(severities, weights=[40, 30, 20, 10])[0]\n",
    "                        cursor.execute(\"\"\"\n",
    "                        INSERT INTO incidents (plant_id, year, month, type, severity)\n",
    "                        VALUES (?, ?, ?, ?, ?)\n",
    "                        \"\"\", (plant_id, year, month, incident_type, severity))\n"
   ]
  },
  {
   "cell_type": "code",
   "execution_count": 16,
   "id": "a15bd9ee-8554-4c56-9599-8acbe3c31b87",
   "metadata": {},
   "outputs": [],
   "source": [
    "# Execute Data generation\n",
    "\n",
    "generate_production_data()\n",
    "generate_emissions_data()\n",
    "generate_energy_data()\n",
    "generate_incident_data()\n",
    "\n",
    "conn.commit()\n",
    "conn.close()"
   ]
  }
 ],
 "metadata": {
  "kernelspec": {
   "display_name": "Python 3 (ipykernel)",
   "language": "python",
   "name": "python3"
  },
  "language_info": {
   "codemirror_mode": {
    "name": "ipython",
    "version": 3
   },
   "file_extension": ".py",
   "mimetype": "text/x-python",
   "name": "python",
   "nbconvert_exporter": "python",
   "pygments_lexer": "ipython3",
   "version": "3.12.4"
  }
 },
 "nbformat": 4,
 "nbformat_minor": 5
}
